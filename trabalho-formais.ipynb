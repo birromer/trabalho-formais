{
 "cells": [
  {
   "cell_type": "code",
   "execution_count": 26,
   "metadata": {},
   "outputs": [
    {
     "ename": "ModuleNotFoundError",
     "evalue": "No module named 'jdc'",
     "output_type": "error",
     "traceback": [
      "\u001b[0;31m---------------------------------------------------------------------------\u001b[0m",
      "\u001b[0;31mModuleNotFoundError\u001b[0m                       Traceback (most recent call last)",
      "\u001b[0;32m<ipython-input-26-66ac73c1a7c6>\u001b[0m in \u001b[0;36m<module>\u001b[0;34m()\u001b[0m\n\u001b[0;32m----> 1\u001b[0;31m \u001b[0;32mimport\u001b[0m \u001b[0mjdc\u001b[0m\u001b[0;34m\u001b[0m\u001b[0m\n\u001b[0m",
      "\u001b[0;31mModuleNotFoundError\u001b[0m: No module named 'jdc'"
     ]
    }
   ],
   "source": [
    "import jdc"
   ]
  },
  {
   "cell_type": "code",
   "execution_count": 1,
   "metadata": {},
   "outputs": [],
   "source": [
    "class gramatica(object):\n",
    "    def __init__(self):\n",
    "        self.terminais = []\n",
    "        self.variaveis = []\n",
    "        self.inicial = []\n",
    "        self.regras = []\n",
    "        self.bonito = []"
   ]
  },
  {
   "cell_type": "code",
   "execution_count": 2,
   "metadata": {},
   "outputs": [],
   "source": [
    "blabla = gramatica()"
   ]
  },
  {
   "cell_type": "code",
   "execution_count": 21,
   "metadata": {},
   "outputs": [],
   "source": [
    "class gramatica(gramatica):\n",
    "    def formataProd(self):\n",
    "        self.regras =  \",\".join(self.regras)\n",
    "        self.regras = self.regras.replace(\" \", \"\", 1)\n",
    "        self.regras = self.regras.replace(\"   \",\" \")\n",
    "        self.regras = self.regras.replace(\"  >  \",\" \")\n",
    "        self.regras = self.regras.replace(\" ,\",\",\")\n",
    "        self.regras = self.regras.split(\", \")\n",
    "        for i in range(len(self.regras)):\n",
    "            self.regras[i] = self.regras[i].split(' ')\n",
    "        self.regras[-1].remove('')\n",
    "\n",
    "        \n",
    "    def leGramatica(self, nomeArquivo):\n",
    "        with open(nomeArquivo,\"r\") as arq:\n",
    "            conteudo= arq.read().splitlines()\n",
    "        for i in range(0,conteudo.index(\"#Regras\")):\n",
    "            conteudo[i] = conteudo[i].replace('\\t', '')\n",
    "            conteudo[i] = conteudo[i].replace('[', '')\n",
    "            conteudo[i] = conteudo[i].replace(']', '')\n",
    "            conteudo[i] = conteudo[i].replace(' ', '')\n",
    "        for i in range(conteudo.index(\"#Regras\"),len(conteudo)):\n",
    "            conteudo[i] = conteudo[i].replace('\\t', '')\n",
    "            conteudo[i] = conteudo[i].replace('[', '')\n",
    "            conteudo[i] = conteudo[i].replace(']', '')\n",
    "        for i in range(len(conteudo)):\n",
    "            if conteudo[i] == \"#Terminais\":\n",
    "                for n in range(i+1,conteudo.index(\"#Variaveis\")):\n",
    "                    self.terminais.append(conteudo[n])\n",
    "                    i+=1\n",
    "            elif conteudo[i] == \"#Variaveis\":\n",
    "                for n in range(i+1,conteudo.index(\"#Inicial\")):\n",
    "                    self.variaveis.append(conteudo[n])\n",
    "                    i+=1\n",
    "            elif conteudo[i] == \"#Inicial\":\n",
    "                self.inicial = conteudo[i+1]\n",
    "            elif conteudo[i] == \"#Regras\":\n",
    "                for n in range(i+1,len(conteudo)):\n",
    "                    self.regras.append(conteudo[n])\n",
    "                    self.bonito.append(conteudo[n])\n",
    "                    i+=1\n",
    "        self.formataProd()\n",
    "\n",
    "blabla = gramatica()\n",
    "blabla.leGramatica(\"gramatica_exemplo3.txt\")"
   ]
  },
  {
   "cell_type": "code",
   "execution_count": 19,
   "metadata": {},
   "outputs": [
    {
     "ename": "TypeError",
     "evalue": "sequence item 0: expected str instance, list found",
     "output_type": "error",
     "traceback": [
      "\u001b[0;31m---------------------------------------------------------------------------\u001b[0m",
      "\u001b[0;31mTypeError\u001b[0m                                 Traceback (most recent call last)",
      "\u001b[0;32m<ipython-input-19-ed5596174c04>\u001b[0m in \u001b[0;36m<module>\u001b[0;34m()\u001b[0m\n\u001b[0;32m----> 1\u001b[0;31m \u001b[0mblabla\u001b[0m\u001b[0;34m.\u001b[0m\u001b[0mleGramatica\u001b[0m\u001b[0;34m(\u001b[0m\u001b[0;34m\"gramatica_exemplo3.txt\"\u001b[0m\u001b[0;34m)\u001b[0m\u001b[0;34m\u001b[0m\u001b[0m\n\u001b[0m",
      "\u001b[0;32m<ipython-input-15-cfc0f153666e>\u001b[0m in \u001b[0;36mleGramatica\u001b[0;34m(self, nomeArquivo)\u001b[0m\n\u001b[1;32m     40\u001b[0m                     \u001b[0mself\u001b[0m\u001b[0;34m.\u001b[0m\u001b[0mbonito\u001b[0m\u001b[0;34m.\u001b[0m\u001b[0mappend\u001b[0m\u001b[0;34m(\u001b[0m\u001b[0mconteudo\u001b[0m\u001b[0;34m[\u001b[0m\u001b[0mn\u001b[0m\u001b[0;34m]\u001b[0m\u001b[0;34m)\u001b[0m\u001b[0;34m\u001b[0m\u001b[0m\n\u001b[1;32m     41\u001b[0m                     \u001b[0mi\u001b[0m\u001b[0;34m+=\u001b[0m\u001b[0;36m1\u001b[0m\u001b[0;34m\u001b[0m\u001b[0m\n\u001b[0;32m---> 42\u001b[0;31m         \u001b[0mself\u001b[0m\u001b[0;34m.\u001b[0m\u001b[0mformataProd\u001b[0m\u001b[0;34m(\u001b[0m\u001b[0;34m)\u001b[0m\u001b[0;34m\u001b[0m\u001b[0m\n\u001b[0m\u001b[1;32m     43\u001b[0m \u001b[0;34m\u001b[0m\u001b[0m\n\u001b[1;32m     44\u001b[0m \u001b[0mblabla\u001b[0m \u001b[0;34m=\u001b[0m \u001b[0mgramatica\u001b[0m\u001b[0;34m(\u001b[0m\u001b[0;34m)\u001b[0m\u001b[0;34m\u001b[0m\u001b[0m\n",
      "\u001b[0;32m<ipython-input-15-cfc0f153666e>\u001b[0m in \u001b[0;36mformataProd\u001b[0;34m(self)\u001b[0m\n\u001b[1;32m      1\u001b[0m \u001b[0;32mclass\u001b[0m \u001b[0mgramatica\u001b[0m\u001b[0;34m(\u001b[0m\u001b[0mgramatica\u001b[0m\u001b[0;34m)\u001b[0m\u001b[0;34m:\u001b[0m\u001b[0;34m\u001b[0m\u001b[0m\n\u001b[1;32m      2\u001b[0m     \u001b[0;32mdef\u001b[0m \u001b[0mformataProd\u001b[0m\u001b[0;34m(\u001b[0m\u001b[0mself\u001b[0m\u001b[0;34m)\u001b[0m\u001b[0;34m:\u001b[0m\u001b[0;34m\u001b[0m\u001b[0m\n\u001b[0;32m----> 3\u001b[0;31m         \u001b[0mself\u001b[0m\u001b[0;34m.\u001b[0m\u001b[0mregras\u001b[0m \u001b[0;34m=\u001b[0m  \u001b[0;34m\",\"\u001b[0m\u001b[0;34m.\u001b[0m\u001b[0mjoin\u001b[0m\u001b[0;34m(\u001b[0m\u001b[0mself\u001b[0m\u001b[0;34m.\u001b[0m\u001b[0mregras\u001b[0m\u001b[0;34m)\u001b[0m\u001b[0;34m\u001b[0m\u001b[0m\n\u001b[0m\u001b[1;32m      4\u001b[0m         \u001b[0mself\u001b[0m\u001b[0;34m.\u001b[0m\u001b[0mregras\u001b[0m \u001b[0;34m=\u001b[0m \u001b[0mself\u001b[0m\u001b[0;34m.\u001b[0m\u001b[0mregras\u001b[0m\u001b[0;34m.\u001b[0m\u001b[0mreplace\u001b[0m\u001b[0;34m(\u001b[0m\u001b[0;34m\" \"\u001b[0m\u001b[0;34m,\u001b[0m \u001b[0;34m\"\"\u001b[0m\u001b[0;34m,\u001b[0m \u001b[0;36m1\u001b[0m\u001b[0;34m)\u001b[0m\u001b[0;34m\u001b[0m\u001b[0m\n\u001b[1;32m      5\u001b[0m         \u001b[0mself\u001b[0m\u001b[0;34m.\u001b[0m\u001b[0mregras\u001b[0m \u001b[0;34m=\u001b[0m \u001b[0mself\u001b[0m\u001b[0;34m.\u001b[0m\u001b[0mregras\u001b[0m\u001b[0;34m.\u001b[0m\u001b[0mreplace\u001b[0m\u001b[0;34m(\u001b[0m\u001b[0;34m\"   \"\u001b[0m\u001b[0;34m,\u001b[0m\u001b[0;34m\" \"\u001b[0m\u001b[0;34m)\u001b[0m\u001b[0;34m\u001b[0m\u001b[0m\n",
      "\u001b[0;31mTypeError\u001b[0m: sequence item 0: expected str instance, list found"
     ]
    }
   ],
   "source": [
    "blabla.leGramatica(\"gramatica_exemplo3.txt\")"
   ]
  },
  {
   "cell_type": "code",
   "execution_count": 22,
   "metadata": {},
   "outputs": [],
   "source": [
    "class gramatica(gramatica):\n",
    "    def defFormal(self):\n",
    "        var = \", \".join(self.variaveis)\n",
    "        term = \", \".join(self.terminais)\n",
    "        prod = \",\\n\".join(self.bonito)\n",
    "        print(\"G = ({%s},{%s},P ,%s)\" % (var, term, self.inicial))\n",
    "        print(\"P = {%s}\" % (prod.replace(\", \", \",\\n\")))"
   ]
  },
  {
   "cell_type": "code",
   "execution_count": 23,
   "metadata": {
    "scrolled": true
   },
   "outputs": [
    {
     "name": "stdout",
     "output_type": "stream",
     "text": [
      "G = ({S, Z, B, X, Y, A},{a, b, u, v},P ,S)\n",
      "P = { S  >  X   Y   Z ,\n",
      " A  >  a ,\n",
      " B  >  b ,\n",
      " X  >  A   X   A ,\n",
      " X  >  B   X   B ,\n",
      " X  >  Z ,\n",
      " X  >  V ,\n",
      " Y  >  A   Y   B ,\n",
      " Y  >  B   Y   A ,\n",
      " Y  >  Z ,\n",
      " Y  >  V ,\n",
      " Z  >  Z   u ,\n",
      " Z  >  Z   v ,\n",
      " Z  >  V ,\n",
      " Y  >  A ,\n",
      " A  >  X ,\n",
      " B  >  A ,\n",
      " J  >  K   a }\n"
     ]
    }
   ],
   "source": [
    "blabla.defFormal()"
   ]
  },
  {
   "cell_type": "code",
   "execution_count": 24,
   "metadata": {},
   "outputs": [],
   "source": [
    "class gramatica(gramatica):\n",
    "    def removeVazios(self):\n",
    "        prodVazio = []\n",
    "        #faz fecho com produções vazias diretas\n",
    "        for prod in self.regras:\n",
    "            for var in prod:\n",
    "                if var == 'V':\n",
    "                    prodVazio.append(prod[0])\n",
    "        diretoVazio = prodVazio.copy()\n",
    "        #faz fecho com produções vazias indiretas\n",
    "        tam = 0\n",
    "        while (len(prodVazio) != tam):\n",
    "            tam = len(prodVazio)\n",
    "            for i in range(len(self.regras)):\n",
    "                naoGeraVazio = 0\n",
    "                for j in range(1, len(self.regras[i])):\n",
    "                    if self.regras[i][j] not in prodVazio:\n",
    "                        naoGeraVazio = 1\n",
    "                if not naoGeraVazio and self.regras[i][0] not in prodVazio:\n",
    "                        prodVazio.append(self.regras[i][0])\n",
    "        #remove produções vazias diretas\n",
    "        for prod in self.regras:\n",
    "            naoGeraVazio = 0\n",
    "            if prod[1] == 'V':\n",
    "                self.regras.remove(prod)\n",
    "        #gera produções substituindo as ocorrências das variáveis do fecho\n",
    "        for var in prodVazio:\n",
    "            for prod in self.regras:\n",
    "                for item in prod:\n",
    "                    if var in  item:\n",
    "                        novaProd = [item for item in prod if item == prod[0] or item != var]\n",
    "                        if novaProd not in self.regras and len(novaProd) > 1:\n",
    "                            self.regras.append(novaProd)\n",
    "        \"\"\"\n",
    "        #gera produção vazia a partir do inicial caso necessário\n",
    "        if self.inicial in prodVazio:\n",
    "            self.regras.append([self.inicial, 'V'])\n",
    "        \"\"\""
   ]
  },
  {
   "cell_type": "code",
   "execution_count": 25,
   "metadata": {},
   "outputs": [
    {
     "ename": "NameError",
     "evalue": "name 'self' is not defined",
     "output_type": "error",
     "traceback": [
      "\u001b[0;31m---------------------------------------------------------------------------\u001b[0m",
      "\u001b[0;31mNameError\u001b[0m                                 Traceback (most recent call last)",
      "\u001b[0;32m<ipython-input-25-d586823fc450>\u001b[0m in \u001b[0;36m<module>\u001b[0;34m()\u001b[0m\n\u001b[1;32m      2\u001b[0m \u001b[0mblabla\u001b[0m\u001b[0;34m.\u001b[0m\u001b[0mleGramatica\u001b[0m\u001b[0;34m(\u001b[0m\u001b[0;34m\"gramatica_exemplo3.txt\"\u001b[0m\u001b[0;34m)\u001b[0m\u001b[0;34m\u001b[0m\u001b[0m\n\u001b[1;32m      3\u001b[0m \u001b[0mblabla\u001b[0m\u001b[0;34m.\u001b[0m\u001b[0mremoveVazios\u001b[0m\u001b[0;34m(\u001b[0m\u001b[0;34m)\u001b[0m\u001b[0;34m\u001b[0m\u001b[0m\n\u001b[0;32m----> 4\u001b[0;31m \u001b[0mprint\u001b[0m\u001b[0;34m(\u001b[0m\u001b[0mself\u001b[0m\u001b[0;34m.\u001b[0m\u001b[0mregras\u001b[0m\u001b[0;34m)\u001b[0m\u001b[0;34m\u001b[0m\u001b[0m\n\u001b[0m",
      "\u001b[0;31mNameError\u001b[0m: name 'self' is not defined"
     ]
    }
   ],
   "source": [
    "blabla = gramatica()\n",
    "blabla.leGramatica(\"gramatica_exemplo3.txt\")\n",
    "blabla.removeVazios()\n",
    "print(self.regras)"
   ]
  },
  {
   "cell_type": "code",
   "execution_count": null,
   "metadata": {},
   "outputs": [],
   "source": [
    "class gramatica(gramatica):\n",
    "    def removeUnit(self):\n",
    "        #cria fechos\n",
    "        fechos = []\n",
    "        for var in self.variaveis:\n",
    "            fechos.append([var])\n",
    "        #aumenta fecho com produções unitárias correspondentes\n",
    "        for i in range(len(fechos)):\n",
    "            tam = 0\n",
    "            j = 0\n",
    "            while tam != len(fechos[i]):\n",
    "                tam = len(fechos[i])\n",
    "                for prod in self.regras:\n",
    "                    if prod[0] == fechos[i][j] and len(prod) == 2 and prod[1] not in fechos[i] and prod[1] in self.variaveis:\n",
    "                        fechos[i].append(prod[1])\n",
    "                j+=1        \n",
    "        #remove produções unitárias\n",
    "        i = 0\n",
    "        while i < len(self.regras):\n",
    "            if len(self.regras[i]) == 2 and self.regras[i][1] in self.variaveis:\n",
    "                self.regras.remove(self.regras[i])\n",
    "            else:\n",
    "                i+=1\n",
    "        #guacumula produções\n",
    "        for fecho in fechos:\n",
    "            for i in range(1,len(fecho)):\n",
    "                for prod in self.regras:\n",
    "                    if fecho[i] == prod[0]:\n",
    "                        novaProd = []\n",
    "                        novaProd.append(fecho[0])\n",
    "                        for v in prod[1:]:\n",
    "                            novaProd.append(v)\n",
    "                        if novaProd not in self.regras:\n",
    "                            self.regras.append(novaProd)"
   ]
  },
  {
   "cell_type": "code",
   "execution_count": null,
   "metadata": {},
   "outputs": [],
   "source": [
    "blabla.removeUnit()\n",
    "print(self.regras)"
   ]
  },
  {
   "cell_type": "code",
   "execution_count": null,
   "metadata": {},
   "outputs": [],
   "source": [
    "def removeInuteis(self):\n",
    "        uteis = []\n",
    "        #inicializa com variáveis que chegam em terminais\n",
    "        for prod in self.regras:\n",
    "            for item in prod[1:]:\n",
    "                if item in self.terminais and prod[0] not in uteis:\n",
    "                    uteis.append(prod[0])\n",
    "        #elimina casos com variáveis do lado direito\n",
    "        bla =[]\n",
    "        #print(uteis)\n",
    "        for var in uteis:\n",
    "            for prod in self.regras:\n",
    "                if prod[0] == var:\n",
    "                    flag = 0\n",
    "                    for l in prod[1:]:\n",
    "                        if l in self.variaveis:\n",
    "                            flag = 1\n",
    "                    if flag == 0 and prod[0] not in uteis:\n",
    "                        bla.append(prod[0])\n",
    "\n",
    "        print(bla)\n",
    "        input(\"k\")\n",
    "\n",
    "        \"\"\"\n",
    "        criar lista com todas variaveis que levam APENAS a terminais (nao pode haver variavel do lado direito da produção)        \n",
    "        \"\"\"\n",
    "\n",
    "        #gera lista de símbolos antingíveis\n",
    "        atingiveis = [self.inicial]\n",
    "        for prod in self.regras:\n",
    "            if prod[0] == self.inicial:\n",
    "                for i in range(1,len(prod)):\n",
    "                    if prod[i] not in self.terminais and prod[i] not in atingiveis:\n",
    "                        atingiveis.append(prod[i])\n",
    "        #exclui produções de variáveis que não levam a terminais\n",
    "#        self.regras = filter(lambda x: x in uteis, self.regras)"
   ]
  },
  {
   "cell_type": "code",
   "execution_count": null,
   "metadata": {},
   "outputs": [],
   "source": [
    "blabla.removeInuteis()\n",
    "print(self.regras)"
   ]
  },
  {
   "cell_type": "code",
   "execution_count": null,
   "metadata": {},
   "outputs": [],
   "source": []
  }
 ],
 "metadata": {
  "kernelspec": {
   "display_name": "Python 3",
   "language": "python",
   "name": "python3"
  },
  "language_info": {
   "codemirror_mode": {
    "name": "ipython",
    "version": 3
   },
   "file_extension": ".py",
   "mimetype": "text/x-python",
   "name": "python",
   "nbconvert_exporter": "python",
   "pygments_lexer": "ipython3",
   "version": "3.6.5"
  }
 },
 "nbformat": 4,
 "nbformat_minor": 2
}

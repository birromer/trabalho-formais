{
 "cells": [
  {
   "cell_type": "code",
   "execution_count": 1,
   "metadata": {},
   "outputs": [],
   "source": [
    "import jdc"
   ]
  },
  {
   "cell_type": "code",
   "execution_count": 2,
   "metadata": {},
   "outputs": [],
   "source": [
    "class gramatica(object):\n",
    "    def __init__(self):\n",
    "        self.terminais = []\n",
    "        self.variaveis = []\n",
    "        self.inicial = []\n",
    "        self.regras = []\n",
    "        self.bonito = []"
   ]
  },
  {
   "cell_type": "code",
   "execution_count": 3,
   "metadata": {},
   "outputs": [],
   "source": [
    "blabla = gramatica()"
   ]
  },
  {
   "cell_type": "code",
   "execution_count": 4,
   "metadata": {},
   "outputs": [],
   "source": [
    "class gramatica(gramatica):\n",
    "    def formataProd(self):\n",
    "        self.regras =  \",\".join(self.regras)\n",
    "        self.regras = self.regras.replace(\" \", \"\", 1)\n",
    "        self.regras = self.regras.replace(\"   \",\" \")\n",
    "        self.regras = self.regras.replace(\"  >  \",\" \")\n",
    "        self.regras = self.regras.replace(\" ,\",\",\")\n",
    "        self.regras = self.regras.split(\", \")\n",
    "        for i in range(len(self.regras)):\n",
    "            self.regras[i] = self.regras[i].split(' ')\n",
    "        self.regras[-1].remove('')\n",
    "\n",
    "        \n",
    "    def leGramatica(self, nomeArquivo):\n",
    "        with open(nomeArquivo,\"r\") as arq:\n",
    "            conteudo= arq.read().splitlines()\n",
    "        for i in range(0,conteudo.index(\"#Regras\")):\n",
    "            conteudo[i] = conteudo[i].replace('\\t', '')\n",
    "            conteudo[i] = conteudo[i].replace('[', '')\n",
    "            conteudo[i] = conteudo[i].replace(']', '')\n",
    "            conteudo[i] = conteudo[i].replace(' ', '')\n",
    "        for i in range(conteudo.index(\"#Regras\"),len(conteudo)):\n",
    "            conteudo[i] = conteudo[i].replace('\\t', '')\n",
    "            conteudo[i] = conteudo[i].replace('[', '')\n",
    "            conteudo[i] = conteudo[i].replace(']', '')\n",
    "        for i in range(len(conteudo)):\n",
    "            if conteudo[i] == \"#Terminais\":\n",
    "                for n in range(i+1,conteudo.index(\"#Variaveis\")):\n",
    "                    self.terminais.append(conteudo[n])\n",
    "                    i+=1\n",
    "            elif conteudo[i] == \"#Variaveis\":\n",
    "                for n in range(i+1,conteudo.index(\"#Inicial\")):\n",
    "                    self.variaveis.append(conteudo[n])\n",
    "                    i+=1\n",
    "            elif conteudo[i] == \"#Inicial\":\n",
    "                self.inicial = conteudo[i+1]\n",
    "            elif conteudo[i] == \"#Regras\":\n",
    "                for n in range(i+1,len(conteudo)):\n",
    "                    self.regras.append(conteudo[n])\n",
    "                    self.bonito.append(conteudo[n])\n",
    "                    i+=1\n",
    "        self.formataProd()"
   ]
  },
  {
   "cell_type": "code",
   "execution_count": 5,
   "metadata": {},
   "outputs": [
    {
     "name": "stdout",
     "output_type": "stream",
     "text": [
      "G = ({S, Z, B, X, Y, A, J, K},{a, b, u, v},P ,S)\n",
      "P = { S  >  X   Y   Z ,\n",
      " A  >  a ,\n",
      " B  >  b ,\n",
      " X  >  A   X   A ,\n",
      " X  >  B   X   B ,\n",
      " X  >  Z ,\n",
      " X  >  V ,\n",
      " Y  >  A   Y   B ,\n",
      " Y  >  B   Y   A ,\n",
      " Y  >  Z ,\n",
      " Y  >  V ,\n",
      " Z  >  Z   u ,\n",
      " Z  >  Z   v ,\n",
      " Z  >  V ,\n",
      " Y  >  A ,\n",
      " A  >  X ,\n",
      " B  >  A ,\n",
      " J  >  K   a }\n"
     ]
    }
   ],
   "source": [
    "class gramatica(gramatica):\n",
    "    def defFormal(self):\n",
    "        var = \", \".join(self.variaveis)\n",
    "        term = \", \".join(self.terminais)\n",
    "        prod = \",\\n\".join(self.bonito)\n",
    "        print(\"G = ({%s},{%s},P ,%s)\" % (var, term, self.inicial))\n",
    "        print(\"P = {%s}\" % (prod.replace(\", \", \",\\n\")))\n",
    "\n",
    "blabla = gramatica()\n",
    "blabla.leGramatica(\"gramatica_exemplo3.txt\")\n",
    "blabla.defFormal()"
   ]
  },
  {
   "cell_type": "code",
   "execution_count": 6,
   "metadata": {},
   "outputs": [
    {
     "name": "stdout",
     "output_type": "stream",
     "text": [
      "[['S', 'X', 'Y', 'Z'], ['A', 'a'], ['B', 'b'], ['X', 'A', 'X', 'A'], ['X', 'B', 'X', 'B'], ['X', 'Z'], ['Y', 'A', 'Y', 'B'], ['Y', 'B', 'Y', 'A'], ['Y', 'Z'], ['Z', 'Z', 'u'], ['Z', 'Z', 'v'], ['Y', 'A'], ['A', 'X'], ['B', 'A'], ['J', 'K', 'a'], ['S', 'Y', 'Z'], ['S', 'X', 'Z'], ['S', 'Z'], ['S', 'X', 'Y'], ['S', 'Y'], ['S', 'X'], ['X', 'X'], ['Y', 'Y', 'B'], ['Y', 'B', 'Y'], ['Y', 'A', 'Y'], ['Y', 'Y', 'A'], ['Y', 'Y']]\n"
     ]
    }
   ],
   "source": [
    "class gramatica(gramatica):\n",
    "    def removeVazios(self):\n",
    "        prodVazio = []\n",
    "        #faz fecho com produções vazias diretas\n",
    "        for prod in self.regras:\n",
    "            for var in prod:\n",
    "                if var == 'V':\n",
    "                    prodVazio.append(prod[0])\n",
    "        diretoVazio = prodVazio.copy()\n",
    "        #faz fecho com produções vazias indiretas\n",
    "        tam = 0\n",
    "        while (len(prodVazio) != tam):\n",
    "            tam = len(prodVazio)\n",
    "            for i in range(len(self.regras)):\n",
    "                naoGeraVazio = 0\n",
    "                for j in range(1, len(self.regras[i])):\n",
    "                    if self.regras[i][j] not in prodVazio:\n",
    "                        naoGeraVazio = 1\n",
    "                if not naoGeraVazio and self.regras[i][0] not in prodVazio:\n",
    "                        prodVazio.append(self.regras[i][0])\n",
    "        #remove produções vazias diretas\n",
    "        for prod in self.regras:\n",
    "            naoGeraVazio = 0\n",
    "            if prod[1] == 'V':\n",
    "                self.regras.remove(prod)\n",
    "        #gera produções substituindo as ocorrências das variáveis do fecho\n",
    "        for var in prodVazio:\n",
    "            for prod in self.regras:\n",
    "                for item in prod:\n",
    "                    if var in  item:\n",
    "                        novaProd = [item for item in prod if item == prod[0] or item != var]\n",
    "                        if novaProd not in self.regras and len(novaProd) > 1:\n",
    "                            self.regras.append(novaProd)\n",
    "        \"\"\"\n",
    "        #gera produção vazia a partir do inicial caso necessário\n",
    "        if self.inicial in prodVazio:\n",
    "            self.regras.append([self.inicial, 'V'])\n",
    "        \"\"\"\n",
    "        \n",
    "blabla = gramatica()\n",
    "blabla.leGramatica(\"gramatica_exemplo3.txt\")\n",
    "blabla.removeVazios()\n",
    "print(blabla.regras)"
   ]
  },
  {
   "cell_type": "code",
   "execution_count": 7,
   "metadata": {},
   "outputs": [
    {
     "name": "stdout",
     "output_type": "stream",
     "text": [
      "[['S', 'X', 'Y', 'Z'], ['A', 'a'], ['B', 'b'], ['X', 'A', 'X', 'A'], ['X', 'B', 'X', 'B'], ['Y', 'A', 'Y', 'B'], ['Y', 'B', 'Y', 'A'], ['Z', 'Z', 'u'], ['Z', 'Z', 'v'], ['J', 'K', 'a'], ['S', 'Y', 'Z'], ['S', 'X', 'Z'], ['S', 'X', 'Y'], ['Y', 'Y', 'B'], ['Y', 'B', 'Y'], ['Y', 'A', 'Y'], ['Y', 'Y', 'A'], ['S', 'Z', 'u'], ['S', 'Z', 'v'], ['S', 'A', 'Y', 'B'], ['S', 'B', 'Y', 'A'], ['S', 'Y', 'B'], ['S', 'B', 'Y'], ['S', 'A', 'Y'], ['S', 'Y', 'A'], ['S', 'A', 'X', 'A'], ['S', 'B', 'X', 'B'], ['B', 'a'], ['B', 'A', 'X', 'A'], ['B', 'B', 'X', 'B'], ['B', 'Z', 'u'], ['B', 'Z', 'v'], ['X', 'Z', 'u'], ['X', 'Z', 'v'], ['Y', 'Z', 'u'], ['Y', 'Z', 'v'], ['Y', 'a'], ['A', 'A', 'X', 'A'], ['A', 'B', 'X', 'B'], ['A', 'Z', 'u'], ['A', 'Z', 'v']]\n"
     ]
    }
   ],
   "source": [
    "class gramatica(gramatica):\n",
    "    def removeUnit(self):\n",
    "        #cria fechos\n",
    "        fechos = []\n",
    "        for var in self.variaveis:\n",
    "            fechos.append([var])\n",
    "        #aumenta fecho com produções unitárias correspondentes\n",
    "        for i in range(len(fechos)):\n",
    "            tam = 0\n",
    "            j = 0\n",
    "            while tam != len(fechos[i]):\n",
    "                tam = len(fechos[i])\n",
    "                for prod in self.regras:\n",
    "                    if prod[0] == fechos[i][j] and len(prod) == 2 and prod[1] not in fechos[i] and prod[1] in self.variaveis:\n",
    "                        fechos[i].append(prod[1])\n",
    "                j+=1        \n",
    "        #remove produções unitárias\n",
    "        i = 0\n",
    "        while i < len(self.regras):\n",
    "            if len(self.regras[i]) == 2 and self.regras[i][1] in self.variaveis:\n",
    "                self.regras.remove(self.regras[i])\n",
    "            else:\n",
    "                i+=1\n",
    "        #guacumula produções\n",
    "        for fecho in fechos:\n",
    "            for i in range(1,len(fecho)):\n",
    "                for prod in self.regras:\n",
    "                    if fecho[i] == prod[0]:\n",
    "                        novaProd = []\n",
    "                        novaProd.append(fecho[0])\n",
    "                        for v in prod[1:]:\n",
    "                            novaProd.append(v)\n",
    "                        if novaProd not in self.regras:\n",
    "                            self.regras.append(novaProd)\n",
    "                            \n",
    "blabla=gramatica()\n",
    "blabla.leGramatica(\"gramatica_exemplo3.txt\")\n",
    "blabla.removeVazios()\n",
    "blabla.removeUnit()\n",
    "print(blabla.regras)"
   ]
  },
  {
   "cell_type": "code",
   "execution_count": 10,
   "metadata": {},
   "outputs": [
    {
     "ename": "AttributeError",
     "evalue": "'gramatica' object has no attribute 'removeInuteis'",
     "output_type": "error",
     "traceback": [
      "\u001b[0;31m---------------------------------------------------------------------------\u001b[0m",
      "\u001b[0;31mAttributeError\u001b[0m                            Traceback (most recent call last)",
      "\u001b[0;32m<ipython-input-10-eb79b310edbd>\u001b[0m in \u001b[0;36m<module>\u001b[0;34m()\u001b[0m\n\u001b[1;32m     18\u001b[0m \u001b[0mblabla\u001b[0m\u001b[0;34m.\u001b[0m\u001b[0mremoveVazios\u001b[0m\u001b[0;34m(\u001b[0m\u001b[0;34m)\u001b[0m\u001b[0;34m\u001b[0m\u001b[0m\n\u001b[1;32m     19\u001b[0m \u001b[0mblabla\u001b[0m\u001b[0;34m.\u001b[0m\u001b[0mremoveUnit\u001b[0m\u001b[0;34m(\u001b[0m\u001b[0;34m)\u001b[0m\u001b[0;34m\u001b[0m\u001b[0m\n\u001b[0;32m---> 20\u001b[0;31m \u001b[0mblabla\u001b[0m\u001b[0;34m.\u001b[0m\u001b[0mremoveInuteis\u001b[0m\u001b[0;34m(\u001b[0m\u001b[0;34m)\u001b[0m\u001b[0;34m\u001b[0m\u001b[0m\n\u001b[0m\u001b[1;32m     21\u001b[0m \u001b[0mprint\u001b[0m\u001b[0;34m(\u001b[0m\u001b[0mblabla\u001b[0m\u001b[0;34m.\u001b[0m\u001b[0mregras\u001b[0m\u001b[0;34m)\u001b[0m\u001b[0;34m\u001b[0m\u001b[0m\n",
      "\u001b[0;31mAttributeError\u001b[0m: 'gramatica' object has no attribute 'removeInuteis'"
     ]
    }
   ],
   "source": [
    "def removeInuteis(self):\n",
    "        uteis = []\n",
    "        #inicializa com variáveis que chegam apenas em terminais\n",
    "        for prod in self.regras:\n",
    "            temp = list(filter(lambda x: x in self.terminais, prod))\n",
    "            if len(temp) == len(prod) - 1 and prod[0] not in uteis:\n",
    "                uteis.append(prod[0])\n",
    "        #gera lista de símbolos antingíveis\n",
    "        atingiveis = [self.inicial]\n",
    "        for prod in self.regras:\n",
    "            if prod[0] == self.inicial:\n",
    "                for i in range(1,len(prod)):\n",
    "                    if prod[i] not in self.terminais and prod[i] not in atingiveis:\n",
    "                        atingiveis.append(prod[i])\n",
    "                        \n",
    "blabla = gramatica()\n",
    "blabla.leGramatica(\"gramatica_exemplo3.txt\")\n",
    "blabla.removeVazios()\n",
    "blabla.removeUnit()\n",
    "blabla.removeInuteis()\n",
    "print(blabla.regras)"
   ]
  },
  {
   "cell_type": "code",
   "execution_count": null,
   "metadata": {},
   "outputs": [],
   "source": []
  }
 ],
 "metadata": {
  "kernelspec": {
   "display_name": "Python 3",
   "language": "python",
   "name": "python3"
  },
  "language_info": {
   "codemirror_mode": {
    "name": "ipython",
    "version": 3
   },
   "file_extension": ".py",
   "mimetype": "text/x-python",
   "name": "python",
   "nbconvert_exporter": "python",
   "pygments_lexer": "ipython3",
   "version": "3.6.5"
  }
 },
 "nbformat": 4,
 "nbformat_minor": 2
}
